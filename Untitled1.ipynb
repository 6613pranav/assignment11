{
  "nbformat": 4,
  "nbformat_minor": 0,
  "metadata": {
    "colab": {
      "name": "Untitled1.ipynb",
      "provenance": [],
      "collapsed_sections": [],
      "authorship_tag": "ABX9TyOavEqdBOmNnHo7t2q6FRWz",
      "include_colab_link": true
    },
    "kernelspec": {
      "name": "python3",
      "display_name": "Python 3"
    }
  },
  "cells": [
    {
      "cell_type": "markdown",
      "metadata": {
        "id": "view-in-github",
        "colab_type": "text"
      },
      "source": [
        "<a href=\"https://colab.research.google.com/github/bpriya11/assignment11/blob/master/Untitled1.ipynb\" target=\"_parent\"><img src=\"https://colab.research.google.com/assets/colab-badge.svg\" alt=\"Open In Colab\"/></a>"
      ]
    },
    {
      "cell_type": "markdown",
      "metadata": {
        "id": "j8XTusZDxpTp",
        "colab_type": "text"
      },
      "source": [
        "Step 1: Turn on the Drive API\n",
        "Click this button to create a new Cloud Platform project and automatically enable the Drive API:\n",
        " click on the following block in the given link\n",
        "Enable the Drive API \n",
        "https://developers.google.com/drive/api/v3/quickstart/python#step_1_turn_on_the\n",
        "\n",
        "In resulting dialog click DOWNLOAD CLIENT CONFIGURATION and save the file credentials.json to your working directory.\n",
        "Note* - This is a one time process i.e it has to be downloaded only once."
      ]
    },
    {
      "cell_type": "code",
      "metadata": {
        "id": "SNXnX1LvY-sr",
        "colab_type": "code",
        "colab": {}
      },
      "source": [
        "from __future__ import print_function\n",
        "import os\n",
        "import os.path\n",
        "from googleapiclient.discovery import build\n",
        "from httplib2 import Http\n",
        "from oauth2client import tools,client,file\n",
        "\n",
        "try:\n",
        "    import argparse\n",
        "    flags=argparse.ArgumentParser(parents=[tools.argparser]).parse_args()\n",
        "except ImportError:\n",
        "    flags=None\n",
        "SCOPES = 'https://www.googleapis.com/auth/drive.file'\n",
        "store=file.Storage('storage.json')\n",
        "creds=store.get()\n",
        "if not creds or not creds.valid:\n",
        "        flow=client.flow_from_clientsecrets('credentials.json',scope=SCOPES)\n",
        "        creds=tools.run_flow(flow,store,flags)\\\n",
        "              if flags else tools.run_flow(flow,store)\n",
        "DRIVE = build('drive','v3',http=creds.authorize(Http()))\n",
        "\n",
        "FILES=(\n",
        "    ('hh.txt',None),\n",
        "    ('aa.txt',None),\n",
        ")\n",
        "for filename,mineType in FILES:\n",
        "    metadata = {'name': filename}\n",
        "    if mineType:\n",
        "        metadata['mineType']=mineType\n",
        "    res=DRIVE.files().create(body=metadata,media_body=filename).execute()\n",
        "    if res:\n",
        "        print('uploaded ')\n",
        "os.remove('storage.json')"
      ],
      "execution_count": null,
      "outputs": []
    }
  ]
}